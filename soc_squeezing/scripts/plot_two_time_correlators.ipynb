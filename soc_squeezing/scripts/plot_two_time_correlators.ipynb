{
 "cells": [
  {
   "cell_type": "code",
   "execution_count": 1,
   "metadata": {
    "autoscroll": false,
    "collapsed": false,
    "ein.hycell": false,
    "ein.tags": "worksheet-0",
    "slideshow": {
     "slide_type": "-"
    }
   },
   "outputs": [],
   "source": [
    "#!/usr/bin/env python3\n",
    "\n",
    "import os, sys\n",
    "import numpy as np\n",
    "import itertools\n",
    "import matplotlib.pyplot as plt\n",
    "\n",
    "import scipy.linalg\n",
    "import scipy.sparse\n",
    "\n",
    "from scipy.integrate import solve_ivp\n",
    "from matplotlib.lines import Line2D\n",
    "\n",
    "from dicke_methods import coherent_spin_state, spin_op_vec_mat_dicke\n",
    "from correlator_methods import mat_zxy_to_pzm, vec_zxy_to_pzm, multiply_vecs, \\\n",
    "    get_deriv_op_vec, sandwich_deriv_op_vec, combine_deriv_op_vecs, \\\n",
    "    deriv_op_vec_to_vals, deriv_vals_to_correlators\n",
    "\n",
    "from time import time\n",
    "\n",
    "np.set_printoptions(linewidth = 200)\n",
    "\n",
    "deriv_op_vecs_A = {}\n",
    "deriv_op_vecs_B = {}\n",
    "deriv_op_vecs_At_B = {}\n",
    "deriv_op_vecs_B_At = {}\n",
    "corrs_A = {}\n",
    "corrs_B = {}\n",
    "corrs_At_B = {}\n",
    "corrs_At_B_disc = {}\n",
    "all_dicts = ( deriv_op_vecs_A, deriv_op_vecs_B, deriv_op_vecs_At_B, deriv_op_vecs_B_At,\n",
    "              corrs_A, corrs_B, corrs_At_B, corrs_At_B_disc )"
   ]
  },
  {
   "cell_type": "code",
   "execution_count": 2,
   "metadata": {
    "autoscroll": false,
    "collapsed": false,
    "ein.hycell": false,
    "ein.tags": "worksheet-0",
    "slideshow": {
     "slide_type": "-"
    }
   },
   "outputs": [],
   "source": [
    "N = 10**4 # number of spins\n",
    "S = N/2\n",
    "order_cap = 35 # order limit for short-time correlator expansion\n",
    "\n",
    "fig_dir = \"../figures/\"\n",
    "fig_dir = \"./tmp/\" ######################################################################\n",
    "\n",
    "time_steps = 10**3 # time steps in plot\n",
    "ivp_tolerance = 1e-10 # relative error tolerance in numerical integrator\n",
    "max_tau = 1 # for simulation: chi * max_time = max_tau * N **(-2/3)\n",
    "\n",
    "# determine simulation times in units of the OAT strength \\chi\n",
    "tau_vals = np.linspace(0, max_tau, time_steps)\n",
    "times = tau_vals * N**(-2/3)\n",
    "\n",
    "NAT, OAT, TAT, TNT, TNTB = \"NAT\", \"OAT\", \"TAT\", \"TNT\", \"TNTB\"\n",
    "methods = [ OAT, TAT, TNT ]\n",
    "dicke = \"dicke\"\n",
    "\n",
    "h_zxy = {}\n",
    "h_zxy[NAT] = {}\n",
    "h_zxy[OAT] = { (2,0,0) : 1 }\n",
    "h_zxy[TAT] = { (2,0,0) : +1/3,\n",
    "               (0,0,2) : -1/3 }\n",
    "h_zxy[TNT] = { (2,0,0) : 1,\n",
    "               (0,1,0) : S }\n",
    "h_zxy[TNTB] = { (2,0,0) : 1,\n",
    "                (0,1,0) : -S }\n",
    "\n",
    "init_state_X = (0,1,0)\n",
    "init_state_nZ = (-1,0,0)\n",
    "mat_X_to_nZ_zxy = -np.array([ [0,1,0], [1,0,0], [0,0,1] ])\n",
    "mat_X_to_nZ_pzm = mat_zxy_to_pzm(mat_X_to_nZ_zxy)\n",
    "\n",
    "collective_dec = 1/2\n",
    "single_dec = collective_dec * N\n",
    "no_dec = None\n",
    "dec_p = (single_dec,0,0)\n",
    "dec_z = (0,single_dec,0)\n",
    "dec_m = (0,0,single_dec)\n",
    "dec_P = ( (0,0,0), (collective_dec,0,0) )\n",
    "dec_Z = ( (0,0,0), (0,collective_dec,0) )\n",
    "dec_M = ( (0,0,0), (0,0,collective_dec) )\n",
    "dec_rates = [ no_dec, dec_m, dec_M, dec_p, dec_P, dec_z, dec_Z ]\n",
    "titles = { no_dec : \"No decoherence\",\n",
    "           dec_p : r\"$\\gamma_+=N\\chi/2$\",\n",
    "           dec_P : r\"$\\Gamma_+=\\chi/2$\",\n",
    "           dec_m : r\"$\\gamma_-=N\\chi/2$\",\n",
    "           dec_M : r\"$\\Gamma_-=\\chi/2$\",\n",
    "           dec_z : r\"$\\gamma_{\\mathrm{z}}=N\\chi/2$\",\n",
    "           dec_Z : r\"$\\Gamma_{\\mathrm{z}}=\\chi/2$\" }\n",
    "titles[dicke] = titles[no_dec]\n",
    "for dec_rate in dec_rates:\n",
    "    for single_dict in all_dicts: single_dict[dec_rate] = {}\n",
    "\n",
    "A_zxy = { (0,1,0) : 1,\n",
    "          (0,0,1) : 1j }\n",
    "B_zxy = { (0,1,0) : 1,\n",
    "          (0,0,1) : -1j }\n",
    "symbol_A = \"Sp\"\n",
    "symbol_B = \"Sm\""
   ]
  },
  {
   "cell_type": "code",
   "execution_count": 3,
   "metadata": {
    "autoscroll": false,
    "collapsed": false,
    "ein.hycell": false,
    "ein.tags": "worksheet-0",
    "slideshow": {
     "slide_type": "-"
    }
   },
   "outputs": [],
   "source": [
    "##########################################################################################\n",
    "# Dicke manifold simulation methods\n",
    "##########################################################################################\n",
    "\n",
    "II = scipy.sparse.identity(N+1)\n",
    "S_op_vec, _ = spin_op_vec_mat_dicke(N)\n",
    "\n",
    "def vec_to_dicke(op_vec_zxy):\n",
    "    op_dicke = 0 * II\n",
    "    for op, val in op_vec_zxy.items():\n",
    "        op_dicke_term = II.copy()\n",
    "        for mm in range(3):\n",
    "            for ii in range(op[mm]):\n",
    "                op_dicke_term = op_dicke_term @ S_op_vec[mm]\n",
    "        op_dicke += val * op_dicke_term\n",
    "    return op_dicke\n",
    "\n",
    "A_dicke = vec_to_dicke(A_zxy)\n",
    "B_dicke = vec_to_dicke(B_zxy)\n",
    "H = { method : vec_to_dicke(h_zxy[method]) for method in methods }\n",
    "\n",
    "init_state_dicke = coherent_spin_state(init_state_X, N)\n",
    "def get_states(hamiltonian, extra_op = II):\n",
    "    return solve_ivp(lambda time, state : -1j * ( hamiltonian @ state ),\n",
    "                     (0,times[-1]), extra_op @ init_state_dicke, t_eval = times,\n",
    "                     rtol = ivp_tolerance, atol = ivp_tolerance).y\n",
    "\n",
    "def corr_vals(op_mat, method, prepend_op = II, append_op = II):\n",
    "    kets = get_states(H[method], append_op)\n",
    "    if (prepend_op != append_op).nnz == 0: # if prepend_op == append_op\n",
    "        bras = kets\n",
    "    else:\n",
    "        bras = get_states(H[method], prepend_op.conj().T)\n",
    "    return np.array([ bras[:,tt].conj() @ ( op_mat @ kets[:,tt] )\n",
    "                      for tt in range(times.size) ])\n",
    "\n",
    "##########################################################################################\n",
    "# full simulation methods\n",
    "##########################################################################################\n",
    "\n",
    "init_state = { method : init_state_X for method in methods }\n",
    "dec_mat = { method : None for method in methods }\n",
    "h_pzm = { method : vec_zxy_to_pzm(h_zxy[method]) for method in methods }\n",
    "A_pzm = { method : vec_zxy_to_pzm(A_zxy) for method in methods }\n",
    "B_pzm = { method : vec_zxy_to_pzm(B_zxy) for method in methods }\n",
    "\n",
    "for method in methods:\n",
    "    if N < 10**4 or method in [ NAT, OAT ]: continue\n",
    "    init_state[method] = init_state_nZ\n",
    "    dec_mat[method] = mat_X_to_nZ_pzm\n",
    "    h_pzm[method] = vec_zxy_to_pzm(h_zxy[method], init_state_X)\n",
    "    A_pzm[method] = vec_zxy_to_pzm(A_zxy, init_state_X)\n",
    "    B_pzm[method] = vec_zxy_to_pzm(B_zxy, init_state_X)\n",
    "\n",
    "def deriv_op_vecs(op, dec_rate, method):\n",
    "    return get_deriv_op_vec(order_cap, N, init_state[method], h_pzm[method],\n",
    "                            dec_rate, dec_mat[method], list(op.keys()), True)"
   ]
  },
  {
   "cell_type": "code",
   "execution_count": 4,
   "metadata": {
    "autoscroll": false,
    "collapsed": false,
    "ein.hycell": false,
    "ein.tags": "worksheet-0",
    "slideshow": {
     "slide_type": "-"
    }
   },
   "outputs": [],
   "source": [
    "if N < 10**3:\n",
    "     start = time()\n",
    "     for single_dict in all_dicts: single_dict[dicke] = {}\n",
    "     for method in methods:\n",
    "         print(method)\n",
    "         corrs_A[dicke][method] = corr_vals(A_dicke, method)\n",
    "         corrs_B[dicke][method] = corr_vals(B_dicke, method)\n",
    "         corrs_At_B[dicke][method] = corr_vals(A_dicke, method, append_op = B_dicke)\n",
    "     print(time()-start)\n",
    "else:\n",
    "    for single_dict in all_dicts:\n",
    "        try: del corr[dicke]\n",
    "        except: None"
   ]
  },
  {
   "cell_type": "code",
   "execution_count": 5,
   "metadata": {
    "autoscroll": false,
    "collapsed": false,
    "ein.hycell": false,
    "ein.tags": "worksheet-0",
    "slideshow": {
     "slide_type": "-"
    }
   },
   "outputs": [
    {
     "name": "stdout",
     "output_type": "stream",
     "text": [
      "None\n",
      " OAT\n",
      " TAT\n"
     ]
    },
    {
     "name": "stdout",
     "output_type": "stream",
     "text": [
      " TNT\n"
     ]
    },
    {
     "name": "stdout",
     "output_type": "stream",
     "text": [
      "(0, 0, 5000.0)\n",
      " OAT\n",
      " TAT\n"
     ]
    },
    {
     "name": "stdout",
     "output_type": "stream",
     "text": [
      " TNT\n"
     ]
    },
    {
     "name": "stdout",
     "output_type": "stream",
     "text": [
      "((0, 0, 0), (0, 0, 0.5))\n",
      " OAT\n",
      " TAT\n"
     ]
    },
    {
     "name": "stdout",
     "output_type": "stream",
     "text": [
      " TNT\n"
     ]
    },
    {
     "name": "stdout",
     "output_type": "stream",
     "text": [
      "(5000.0, 0, 0)\n",
      " OAT\n",
      " TAT\n"
     ]
    },
    {
     "name": "stdout",
     "output_type": "stream",
     "text": [
      " TNT\n"
     ]
    },
    {
     "name": "stdout",
     "output_type": "stream",
     "text": [
      "((0, 0, 0), (0.5, 0, 0))\n",
      " OAT\n",
      " TAT\n"
     ]
    },
    {
     "name": "stdout",
     "output_type": "stream",
     "text": [
      " TNT\n"
     ]
    },
    {
     "name": "stdout",
     "output_type": "stream",
     "text": [
      "(0, 5000.0, 0)\n",
      " OAT\n",
      " TAT\n"
     ]
    },
    {
     "name": "stdout",
     "output_type": "stream",
     "text": [
      " TNT\n"
     ]
    },
    {
     "name": "stdout",
     "output_type": "stream",
     "text": [
      "((0, 0, 0), (0, 0.5, 0))\n",
      " OAT\n",
      " TAT\n"
     ]
    },
    {
     "name": "stdout",
     "output_type": "stream",
     "text": [
      " TNT\n"
     ]
    },
    {
     "name": "stdout",
     "output_type": "stream",
     "text": [
      "142.69563937187195\n"
     ]
    }
   ],
   "source": [
    "start = time()\n",
    "for dec_rate in dec_rates:\n",
    "    print(dec_rate)\n",
    "    for method in methods:\n",
    "        print(\"\",method)\n",
    "        deriv_op_vecs_A[dec_rate][method] = deriv_op_vecs(A_pzm[method], dec_rate, method)\n",
    "        deriv_op_vecs_B[dec_rate][method] = deriv_op_vecs(B_pzm[method], dec_rate, method)\n",
    "print(time()-start)"
   ]
  },
  {
   "cell_type": "code",
   "execution_count": 6,
   "metadata": {
    "autoscroll": false,
    "collapsed": false,
    "ein.hycell": false,
    "ein.tags": "worksheet-0",
    "slideshow": {
     "slide_type": "-"
    }
   },
   "outputs": [],
   "source": [
    "start = time()\n",
    "for dec_rate in dec_rates:\n",
    "    # print(dec_rate)\n",
    "    for method in methods:\n",
    "        None\n",
    "        # print(\"\",method)\n",
    "        # deriv_op_vecs_At_B[dec_rate][method] \\\n",
    "        #     = sandwich_deriv_op_vec(deriv_op_vecs_A[dec_rate][method], append_op = B_pzm[method])\n",
    "        # deriv_op_vecs_B_At[dec_rate][method] \\\n",
    "        #     = sandwich_deriv_op_vec(deriv_op_vecs_A[dec_rate][method], prepend_op = B_pzm[method])\n",
    "print(time()-start)"
   ]
  },
  {
   "cell_type": "code",
   "execution_count": 7,
   "metadata": {
    "autoscroll": false,
    "collapsed": false,
    "ein.hycell": false,
    "ein.tags": "worksheet-0",
    "slideshow": {
     "slide_type": "-"
    }
   },
   "outputs": [
    {
     "name": "stdout",
     "output_type": "stream",
     "text": [
      "None\n",
      " OAT\n"
     ]
    },
    {
     "name": "stdout",
     "output_type": "stream",
     "text": [
      " TAT\n"
     ]
    },
    {
     "name": "stdout",
     "output_type": "stream",
     "text": [
      " TNT\n"
     ]
    },
    {
     "name": "stdout",
     "output_type": "stream",
     "text": [
      "(0, 0, 5000.0)\n",
      " OAT\n",
      " TAT\n"
     ]
    },
    {
     "name": "stdout",
     "output_type": "stream",
     "text": [
      " TNT\n"
     ]
    },
    {
     "name": "stdout",
     "output_type": "stream",
     "text": [
      "((0, 0, 0), (0, 0, 0.5))\n",
      " OAT\n"
     ]
    },
    {
     "name": "stdout",
     "output_type": "stream",
     "text": [
      " TAT\n"
     ]
    },
    {
     "name": "stdout",
     "output_type": "stream",
     "text": [
      " TNT\n"
     ]
    },
    {
     "name": "stdout",
     "output_type": "stream",
     "text": [
      "(5000.0, 0, 0)\n",
      " OAT\n",
      " TAT\n"
     ]
    },
    {
     "name": "stdout",
     "output_type": "stream",
     "text": [
      " TNT\n"
     ]
    },
    {
     "name": "stdout",
     "output_type": "stream",
     "text": [
      "((0, 0, 0), (0.5, 0, 0))\n",
      " OAT\n"
     ]
    },
    {
     "name": "stdout",
     "output_type": "stream",
     "text": [
      " TAT\n"
     ]
    },
    {
     "name": "stdout",
     "output_type": "stream",
     "text": [
      " TNT\n"
     ]
    },
    {
     "name": "stdout",
     "output_type": "stream",
     "text": [
      "(0, 5000.0, 0)\n",
      " OAT\n",
      " TAT\n"
     ]
    },
    {
     "name": "stdout",
     "output_type": "stream",
     "text": [
      " TNT\n"
     ]
    },
    {
     "name": "stdout",
     "output_type": "stream",
     "text": [
      "((0, 0, 0), (0, 0.5, 0))\n",
      " OAT\n",
      " TAT\n"
     ]
    },
    {
     "name": "stdout",
     "output_type": "stream",
     "text": [
      " TNT\n"
     ]
    },
    {
     "name": "stdout",
     "output_type": "stream",
     "text": [
      "188.63059329986572\n"
     ]
    }
   ],
   "source": [
    "start = time()\n",
    "for dec_rate in dec_rates:\n",
    "    print(dec_rate)\n",
    "    for method in methods:\n",
    "        print(\"\",method)\n",
    "        deriv_vals_A \\\n",
    "            = deriv_op_vec_to_vals(deriv_op_vecs_A[dec_rate][method], N, init_state[method])\n",
    "        deriv_vals_B \\\n",
    "            = deriv_op_vec_to_vals(deriv_op_vecs_B[dec_rate][method], N, init_state[method])\n",
    "        deriv_vals_At_B \\\n",
    "            = deriv_op_vec_to_vals(deriv_op_vecs_A[dec_rate][method], N, init_state[method],\n",
    "                                   append_op = B_pzm[method])\n",
    "\n",
    "        all_corrs_A = deriv_vals_to_correlators(deriv_vals_A, times)\n",
    "        all_corrs_B = deriv_vals_to_correlators(deriv_vals_B, times)\n",
    "        all_corrs_At_B = deriv_vals_to_correlators(deriv_vals_At_B, times)\n",
    "\n",
    "        corrs_A[dec_rate][method] \\\n",
    "            = sum( val * all_corrs_A[key] for key, val in A_pzm[method].items() )\n",
    "        corrs_B[dec_rate][method] \\\n",
    "            = sum( val * all_corrs_B[key] for key, val in B_pzm[method].items() )\n",
    "        corrs_At_B[dec_rate][method] \\\n",
    "            = sum( val * all_corrs_At_B[key] for key, val in A_pzm[method].items() )\n",
    "print(time()-start)"
   ]
  },
  {
   "cell_type": "code",
   "execution_count": 8,
   "metadata": {
    "autoscroll": false,
    "collapsed": false,
    "ein.hycell": false,
    "ein.tags": "worksheet-0",
    "slideshow": {
     "slide_type": "-"
    }
   },
   "outputs": [],
   "source": [
    "corrs_At_B_disc = {}\n",
    "for key in corrs_At_B.keys():\n",
    "    corrs_At_B_disc[key] = {}\n",
    "    for method in methods:\n",
    "        corrs_At_B_disc[key][method] \\\n",
    "         = corrs_At_B[key][method] - corrs_A[key][method] * corrs_B[key][method][0]"
   ]
  },
  {
   "cell_type": "code",
   "execution_count": 9,
   "metadata": {
    "autoscroll": false,
    "collapsed": false,
    "ein.hycell": false,
    "ein.tags": "worksheet-0",
    "slideshow": {
     "slide_type": "-"
    }
   },
   "outputs": [],
   "source": [
    "%matplotlib agg\n",
    "plot_idx = N * times <= 2.4\n",
    "figsize = (7,4)\n",
    "params = { \"text.usetex\" : True,\n",
    "           \"font.size\" : 8 }\n",
    "plt.rcParams.update(params)\n",
    "\n",
    "plot_methods = [ OAT, TAT, TNT ]\n",
    "plot_methods = [ method for method in plot_methods if method in methods ]\n",
    "colors = [ \"#4E79A7\", \"#F28E2B\", \"#E15759\", \"#76B7B2\",\n",
    "           \"#59A14E\", \"#EDC949\", \"#B07AA2\", \"#FF9DA7\",\n",
    "           \"#9C755F\", \"#BAB0AC\" ]\n",
    "\n",
    "grid_map = { no_dec : (0,0), dicke: (1,0) }\n",
    "for col, dec_rate in enumerate(dec_rates[1::2]):\n",
    "    grid_map[dec_rate] = (0,col+1)\n",
    "for col, dec_rate in enumerate(dec_rates[2::2]):\n",
    "    grid_map[dec_rate] = (1,col+1)\n",
    "\n",
    "plot_corrs = corrs_At_B_disc\n",
    "filename = \"two_time.pdf\"\n",
    "\n",
    "legend_y = 0.08\n",
    "legend_x = 0.02\n",
    "offset_x = 0.135\n",
    "ylims = (-1.2,1.2)\n",
    "\n",
    "##########################################################################################\n",
    "plt.figure(figsize = figsize)\n",
    "plot_dicke = dicke in plot_corrs.keys()\n",
    "rows, columns = 4, (len(plot_corrs)+1) // 2\n",
    "\n",
    "axes = {}\n",
    "top_cell = 1 + ( 0 if plot_dicke else columns )\n",
    "cells = (top_cell, top_cell+columns)\n",
    "axes[no_dec] = plt.subplot(rows, columns, cells)\n",
    "\n",
    "remaining_keys = [ key for key in plot_corrs.keys() if key != no_dec ]\n",
    "for key in remaining_keys:\n",
    "    mm, nn = grid_map[key]\n",
    "    top_cell = 2*columns*mm + nn + 1\n",
    "    cells = (top_cell, top_cell+columns)\n",
    "    axes[key] = plt.subplot(rows, columns, cells,\n",
    "                            sharex = axes[no_dec], sharey = axes[no_dec])\n",
    "\n",
    "for key, corr in plot_corrs.items():\n",
    "    axis = axes[key]\n",
    "\n",
    "    for method, color in zip(plot_methods, colors):\n",
    "        axis.plot(N*times[plot_idx], np.real(corr[method][plot_idx])/S, color = color)\n",
    "        axis.plot(N*times[plot_idx], np.imag(corr[method][plot_idx])/S, color = color,\n",
    "                  linestyle = \"--\")\n",
    "\n",
    "    if grid_map[key][0] == 1 or ( key == no_dec and not plot_dicke ):\n",
    "        axis.ticklabel_format(axis = \"x\", style = \"scientific\", scilimits = (-2,2))\n",
    "        axis.set_xlabel(r\"Time ($N\\chi t$)\")\n",
    "    else:\n",
    "        plt.setp(axis.get_xticklabels(), visible = False)\n",
    "\n",
    "    if grid_map[key][1] == 0:\n",
    "        axis.ticklabel_format(axis = \"y\", style = \"scientific\", scilimits = (-2,2))\n",
    "    else:\n",
    "        plt.setp(axis.get_yticklabels(), visible = False)\n",
    "        axis.yaxis.get_offset_text().set_visible(False)\n",
    "\n",
    "    axis.set_ylim(*ylims)\n",
    "    axis.tick_params(direction = \"in\")\n",
    "    axis.grid(True)\n",
    "\n",
    "for key, axis in axes.items():\n",
    "    axis.set_title(titles[key])\n",
    "\n",
    "linestyle_handles = [ Line2D([0], [0], color = \"k\", linestyle = \"-\"),\n",
    "                      Line2D([0], [0], color = \"k\", linestyle = \"--\", dashes = (3,1)) ]\n",
    "linestyle_labels = [ r\"$\\mathrm{Re}[C(t)]$\", r\"$\\mathrm{Im}[C(t)]$\" ]\n",
    "plt.gcf().legend(linestyle_handles, linestyle_labels,\n",
    "                 loc = \"lower left\", bbox_to_anchor = (legend_x,legend_y))\n",
    "\n",
    "color_handles = [ Line2D([0], [0], color = color) for color in colors ]\n",
    "plt.gcf().legend(color_handles, plot_methods,\n",
    "                 loc = \"lower left\", bbox_to_anchor = (legend_x+offset_x,legend_y))\n",
    "\n",
    "plt.tight_layout()\n",
    "plt.savefig(fig_dir + filename)"
   ]
  },
  {
   "cell_type": "code",
   "execution_count": null,
   "metadata": {
    "autoscroll": false,
    "collapsed": false,
    "ein.hycell": false,
    "ein.tags": "worksheet-0",
    "slideshow": {
     "slide_type": "-"
    }
   },
   "outputs": [],
   "source": []
  }
 ],
 "metadata": {
  "kernelspec": {
   "display_name": "Python 3",
   "name": "python3"
  },
  "name": "plot_two_time_correlators.ipynb"
 },
 "nbformat": 4,
 "nbformat_minor": 2
}
