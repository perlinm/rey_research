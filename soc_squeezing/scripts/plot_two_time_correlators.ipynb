{
 "cells": [
  {
   "cell_type": "code",
   "execution_count": 1,
   "metadata": {
    "autoscroll": false,
    "collapsed": false,
    "ein.hycell": false,
    "ein.tags": "worksheet-0",
    "slideshow": {
     "slide_type": "-"
    }
   },
   "outputs": [],
   "source": [
    "#!/usr/bin/env python3\n",
    "\n",
    "import os, sys\n",
    "import numpy as np\n",
    "import itertools\n",
    "import matplotlib.pyplot as plt\n",
    "import matplotlib.gridspec as gridspec\n",
    "\n",
    "import scipy.linalg\n",
    "import scipy.sparse\n",
    "\n",
    "from scipy.integrate import solve_ivp\n",
    "from matplotlib.lines import Line2D\n",
    "\n",
    "\n",
    "from dicke_methods import coherent_spin_state, spin_op_vec_mat_dicke\n",
    "from correlator_methods import mat_zxy_to_pzm, vec_zxy_to_pzm, multiply_vecs, \\\n",
    "    get_deriv_op_vec, sandwich_deriv_op_vec, add_deriv_op_vecs, multiply_deriv_op_vecs, \\\n",
    "    deriv_op_vec_to_vals, deriv_vals_to_correlators\n",
    "\n",
    "from time import time\n",
    "\n",
    "np.set_printoptions(linewidth = 200)\n",
    "\n",
    "deriv_op_vecs_A = {}\n",
    "deriv_op_vecs_B = {}\n",
    "deriv_op_vecs_At_B = {}\n",
    "deriv_op_vecs_B_At = {}\n",
    "deriv_op_vecs_At_B_comm = {}\n",
    "deriv_op_vecs_At_B_comm_sqr = {}\n",
    "corrs_A = {}\n",
    "corrs_B = {}\n",
    "corrs_At_B = {}\n",
    "corrs_At_B_disc = {}\n",
    "all_dicts = ( deriv_op_vecs_A, deriv_op_vecs_B,\n",
    "              deriv_op_vecs_At_B, deriv_op_vecs_B_At,\n",
    "              deriv_op_vecs_At_B_comm, deriv_op_vecs_At_B_comm_sqr,\n",
    "              corrs_A, corrs_B, corrs_At_B, corrs_At_B_disc )"
   ]
  },
  {
   "cell_type": "code",
   "execution_count": 2,
   "metadata": {
    "autoscroll": false,
    "collapsed": false,
    "ein.hycell": false,
    "ein.tags": "worksheet-0",
    "slideshow": {
     "slide_type": "-"
    }
   },
   "outputs": [],
   "source": [
    "N = 10**4 # number of spins\n",
    "S = N/2\n",
    "order_cap = 20 # order limit for short-time correlator expansion\n",
    "\n",
    "time_steps = 10**3 # time steps in plot\n",
    "ivp_tolerance = 1e-10 # relative error tolerance in numerical integrator\n",
    "max_tau = 1 # for simulation: chi * max_time = max_tau * N **(-2/3)\n",
    "\n",
    "# determine simulation times in units of the OAT strength \\chi\n",
    "tau_vals = np.linspace(0, max_tau, time_steps)\n",
    "times = tau_vals * N**(-2/3)\n",
    "\n",
    "NAT, OAT, TAT, TNT, TNTB = \"NAT\", \"OAT\", \"TAT\", \"TNT\", \"TNTB\"\n",
    "methods = [ OAT, TAT, TNT ]\n",
    "dicke = \"dicke\"\n",
    "\n",
    "h_zxy = {}\n",
    "h_zxy[NAT] = {}\n",
    "h_zxy[OAT] = { (2,0,0) : 1 }\n",
    "h_zxy[TAT] = { (2,0,0) : +1/3,\n",
    "               (0,0,2) : -1/3 }\n",
    "h_zxy[TNT] = { (2,0,0) : 1,\n",
    "               (0,1,0) : S }\n",
    "h_zxy[TNTB] = { (2,0,0) : 1,\n",
    "                (0,1,0) : -S }\n",
    "\n",
    "init_state_X = (0,1,0)\n",
    "init_state_nZ = (-1,0,0)\n",
    "mat_X_to_nZ_zxy = -np.array([ [0,1,0], [1,0,0], [0,0,1] ])\n",
    "mat_X_to_nZ_pzm = mat_zxy_to_pzm(mat_X_to_nZ_zxy)\n",
    "\n",
    "collective_dec = 1/3\n",
    "single_dec = collective_dec * S\n",
    "no_dec = None\n",
    "dec_p = (single_dec,0,0)\n",
    "dec_z = (0,single_dec,0)\n",
    "dec_m = (0,0,single_dec)\n",
    "dec_P = ( (0,0,0), (collective_dec,0,0) )\n",
    "dec_Z = ( (0,0,0), (0,collective_dec,0) )\n",
    "dec_M = ( (0,0,0), (0,0,collective_dec) )\n",
    "dec_rates = [ no_dec, dec_M, dec_m, dec_P, dec_p, dec_Z, dec_z ]\n",
    "titles = { no_dec : \"No decoherence\",\n",
    "           dec_M : r\"$\\Gamma_-=\\chi/3$\",\n",
    "           dec_m : r\"$\\gamma_-=S\\chi/3$\",\n",
    "           dec_P : r\"$\\Gamma_+=\\chi/3$\",\n",
    "           dec_p : r\"$\\gamma_+=S\\chi/3$\",\n",
    "           dec_Z : r\"$\\Gamma_{\\mathrm{z}}=\\chi/3$\",\n",
    "           dec_z : r\"$\\gamma_{\\mathrm{z}}=S\\chi/3$\" }\n",
    "titles[dicke] = titles[no_dec]\n",
    "for dec_rate in dec_rates:\n",
    "    for single_dict in all_dicts: single_dict[dec_rate] = {}\n",
    "\n",
    "A_zxy = { (0,1,0) : 1,\n",
    "          (0,0,1) : 1j }\n",
    "B_zxy = { (0,1,0) : 1,\n",
    "          (0,0,1) : -1j }"
   ]
  },
  {
   "cell_type": "code",
   "execution_count": 3,
   "metadata": {
    "autoscroll": false,
    "collapsed": false,
    "ein.hycell": false,
    "ein.tags": "worksheet-0",
    "slideshow": {
     "slide_type": "-"
    }
   },
   "outputs": [],
   "source": [
    "##########################################################################################\n",
    "# Dicke manifold simulation methods\n",
    "##########################################################################################\n",
    "\n",
    "II = scipy.sparse.identity(N+1)\n",
    "S_op_vec, _ = spin_op_vec_mat_dicke(N)\n",
    "\n",
    "def vec_to_dicke(op_vec_zxy):\n",
    "    op_dicke = 0 * II\n",
    "    for op, val in op_vec_zxy.items():\n",
    "        op_dicke_term = II.copy()\n",
    "        for mm in range(3):\n",
    "            for ii in range(op[mm]):\n",
    "                op_dicke_term = op_dicke_term @ S_op_vec[mm]\n",
    "        op_dicke += val * op_dicke_term\n",
    "    return op_dicke\n",
    "\n",
    "A_dicke = vec_to_dicke(A_zxy)\n",
    "B_dicke = vec_to_dicke(B_zxy)\n",
    "H = { method : vec_to_dicke(h_zxy[method]) for method in methods }\n",
    "\n",
    "init_state_dicke = coherent_spin_state(init_state_X, N)\n",
    "def get_states(hamiltonian, extra_op = II):\n",
    "    return solve_ivp(lambda time, state : -1j * ( hamiltonian @ state ),\n",
    "                     (0,times[-1]), extra_op @ init_state_dicke, t_eval = times,\n",
    "                     rtol = ivp_tolerance, atol = ivp_tolerance).y\n",
    "\n",
    "def corr_vals(op_mat, method, prepend_op = II, append_op = II):\n",
    "    kets = get_states(H[method], append_op)\n",
    "    if (prepend_op != append_op).nnz == 0: # if prepend_op == append_op\n",
    "        bras = kets\n",
    "    else:\n",
    "        bras = get_states(H[method], prepend_op.conj().T)\n",
    "    return np.array([ bras[:,tt].conj() @ ( op_mat @ kets[:,tt] )\n",
    "                      for tt in range(times.size) ])\n",
    "\n",
    "##########################################################################################\n",
    "# full simulation methods\n",
    "##########################################################################################\n",
    "\n",
    "init_state = { method : init_state_X for method in methods }\n",
    "dec_mat = { method : None for method in methods }\n",
    "h_pzm = { method : vec_zxy_to_pzm(h_zxy[method]) for method in methods }\n",
    "A_pzm = { method : vec_zxy_to_pzm(A_zxy) for method in methods }\n",
    "B_pzm = { method : vec_zxy_to_pzm(B_zxy) for method in methods }\n",
    "\n",
    "for method in methods:\n",
    "    if N < 10**4 or method in [ NAT, OAT ]: continue\n",
    "    init_state[method] = init_state_nZ\n",
    "    dec_mat[method] = mat_X_to_nZ_pzm\n",
    "    h_pzm[method] = vec_zxy_to_pzm(h_zxy[method], init_state_X)\n",
    "    A_pzm[method] = vec_zxy_to_pzm(A_zxy, init_state_X)\n",
    "    B_pzm[method] = vec_zxy_to_pzm(B_zxy, init_state_X)\n",
    "\n",
    "def deriv_op_vecs(op, dec_rate, method):\n",
    "    return get_deriv_op_vec(order_cap, N, init_state[method], h_pzm[method],\n",
    "                            dec_rate, dec_mat[method], list(op.keys()), True)"
   ]
  },
  {
   "cell_type": "code",
   "execution_count": 4,
   "metadata": {
    "autoscroll": false,
    "collapsed": false,
    "ein.hycell": false,
    "ein.tags": "worksheet-0",
    "slideshow": {
     "slide_type": "-"
    }
   },
   "outputs": [],
   "source": [
    "if N <= 10**3:\n",
    "     start = time()\n",
    "     for single_dict in all_dicts: single_dict[dicke] = {}\n",
    "     for method in methods:\n",
    "         print(method)\n",
    "         corrs_A[dicke][method] = corr_vals(A_dicke, method)\n",
    "         corrs_B[dicke][method] = corr_vals(B_dicke, method)\n",
    "         corrs_At_B[dicke][method] = corr_vals(A_dicke, method, append_op = B_dicke)\n",
    "     print(time()-start)\n",
    "else:\n",
    "    for single_dict in all_dicts:\n",
    "        try: del corr[dicke]\n",
    "        except: None"
   ]
  },
  {
   "cell_type": "code",
   "execution_count": 5,
   "metadata": {
    "autoscroll": false,
    "collapsed": false,
    "ein.hycell": false,
    "ein.tags": "worksheet-0",
    "slideshow": {
     "slide_type": "-"
    }
   },
   "outputs": [
    {
     "name": "stdout",
     "output_type": "stream",
     "text": [
      "None\n",
      " OAT\n"
     ]
    },
    {
     "name": "stdout",
     "output_type": "stream",
     "text": [
      " TAT\n"
     ]
    },
    {
     "name": "stdout",
     "output_type": "stream",
     "text": [
      " TNT\n"
     ]
    },
    {
     "name": "stdout",
     "output_type": "stream",
     "text": [
      "((0, 0, 0), (0, 0, 0.3333333333333333))\n",
      " OAT\n"
     ]
    },
    {
     "name": "stdout",
     "output_type": "stream",
     "text": [
      " TAT\n"
     ]
    },
    {
     "name": "stdout",
     "output_type": "stream",
     "text": [
      " TNT\n"
     ]
    },
    {
     "name": "stdout",
     "output_type": "stream",
     "text": [
      "(0, 0, 1666.6666666666665)\n",
      " OAT\n",
      " TAT\n"
     ]
    },
    {
     "name": "stdout",
     "output_type": "stream",
     "text": [
      " TNT\n"
     ]
    },
    {
     "name": "stdout",
     "output_type": "stream",
     "text": [
      "((0, 0, 0), (0.3333333333333333, 0, 0))\n",
      " OAT\n",
      " TAT\n"
     ]
    },
    {
     "name": "stdout",
     "output_type": "stream",
     "text": [
      " TNT\n"
     ]
    },
    {
     "name": "stdout",
     "output_type": "stream",
     "text": [
      "(1666.6666666666665, 0, 0)\n",
      " OAT\n",
      " TAT\n"
     ]
    },
    {
     "name": "stdout",
     "output_type": "stream",
     "text": [
      " TNT\n"
     ]
    },
    {
     "name": "stdout",
     "output_type": "stream",
     "text": [
      "((0, 0, 0), (0, 0.3333333333333333, 0))\n",
      " OAT\n",
      " TAT\n"
     ]
    },
    {
     "name": "stdout",
     "output_type": "stream",
     "text": [
      " TNT\n"
     ]
    },
    {
     "name": "stdout",
     "output_type": "stream",
     "text": [
      "(0, 1666.6666666666665, 0)\n",
      " OAT\n",
      " TAT\n"
     ]
    },
    {
     "name": "stdout",
     "output_type": "stream",
     "text": [
      " TNT\n"
     ]
    },
    {
     "name": "stdout",
     "output_type": "stream",
     "text": [
      "56.01677465438843\n"
     ]
    }
   ],
   "source": [
    "start = time()\n",
    "for dec_rate in dec_rates:\n",
    "    print(dec_rate)\n",
    "    for method in methods:\n",
    "        print(\"\",method)\n",
    "\n",
    "        deriv_op_vecs_A[dec_rate][method] = deriv_op_vecs(A_pzm[method], dec_rate, method)\n",
    "        deriv_op_vecs_B[dec_rate][method] = deriv_op_vecs(B_pzm[method], dec_rate, method)\n",
    "        deriv_op_vecs_At_B[dec_rate][method] \\\n",
    "            = sandwich_deriv_op_vec(deriv_op_vecs_A[dec_rate][method], append_op = B_pzm[method])\n",
    "        deriv_op_vecs_B_At[dec_rate][method] \\\n",
    "            = sandwich_deriv_op_vec(deriv_op_vecs_A[dec_rate][method], prepend_op = B_pzm[method])\n",
    "\n",
    "        deriv_vals_A \\\n",
    "            = deriv_op_vec_to_vals(deriv_op_vecs_A[dec_rate][method], N, init_state[method])\n",
    "        deriv_vals_B \\\n",
    "            = deriv_op_vec_to_vals(deriv_op_vecs_B[dec_rate][method], N, init_state[method])\n",
    "        deriv_vals_At_B \\\n",
    "            = deriv_op_vec_to_vals(deriv_op_vecs_At_B[dec_rate][method], N, init_state[method])\n",
    "\n",
    "        all_corrs_A = deriv_vals_to_correlators(deriv_vals_A, times)\n",
    "        all_corrs_B = deriv_vals_to_correlators(deriv_vals_B, times)\n",
    "        all_corrs_At_B = deriv_vals_to_correlators(deriv_vals_At_B, times)\n",
    "\n",
    "        corrs_A[dec_rate][method] \\\n",
    "            = sum( val * all_corrs_A[key] for key, val in A_pzm[method].items() )\n",
    "        corrs_B[dec_rate][method] \\\n",
    "            = sum( val * all_corrs_B[key] for key, val in B_pzm[method].items() )\n",
    "        corrs_At_B[dec_rate][method] \\\n",
    "            = sum( val * all_corrs_At_B[key] for key, val in A_pzm[method].items() )\n",
    "\n",
    "for key in corrs_A.keys():\n",
    "    for method in methods:\n",
    "        corrs_At_B_disc[key][method] \\\n",
    "         = corrs_At_B[key][method] - corrs_A[key][method] * corrs_B[key][method][0]\n",
    "\n",
    "print(time()-start)"
   ]
  },
  {
   "cell_type": "code",
   "execution_count": null,
   "metadata": {
    "autoscroll": false,
    "collapsed": false,
    "ein.hycell": false,
    "ein.tags": "worksheet-0",
    "slideshow": {
     "slide_type": "-"
    }
   },
   "outputs": [],
   "source": [
    "# start = time()\n",
    "# for dec_rate in dec_rates:\n",
    "#     print(dec_rate)\n",
    "#     for method in methods:\n",
    "#         print(\"\",method)\n",
    "#         deriv_op_vecs_At_B_comm[dec_rate][method] \\\n",
    "#             = add_deriv_op_vecs(deriv_op_vecs_At_B[dec_rate][method],\n",
    "#                                 deriv_op_vecs_B_At[dec_rate][method], factor_rht = -1)\n",
    "#         deriv_op_vecs_At_B_comm_sqr[dec_rate][method] \\\n",
    "#             = multiply_deriv_op_vecs(deriv_op_vecs_At_B_comm[dec_rate][method],\n",
    "#                                      deriv_op_vecs_At_B_comm[dec_rate][method],\n",
    "#                                      dag_lft = True)\n",
    "# print(time()-start)"
   ]
  },
  {
   "cell_type": "code",
   "execution_count": null,
   "metadata": {
    "autoscroll": false,
    "collapsed": false,
    "ein.hycell": false,
    "ein.tags": "worksheet-0",
    "slideshow": {
     "slide_type": "-"
    }
   },
   "outputs": [],
   "source": [
    "# def save_deriv_op_vecs(deriv_op_vecs, fname):\n",
    "#     with open(f\"./tmp/{fname}\", \"w\") as f:\n",
    "#         for key_1 in deriv_op_vecs.keys():\n",
    "#             f.write(f\"key_1: {key_1}\\n\")\n",
    "#             for key_2 in deriv_op_vecs[key_1].keys():\n",
    "#                 f.write(f\"key_2: {key_1}\\n\")\n",
    "#                 for deriv_op, vec in deriv_op_vecs[key_1][key_2].items():\n",
    "#                     f.write(f\"deriv_op: {deriv_op}\\n\")\n",
    "#                     arst = clean(vec)\n",
    "#                     for op, val in arst.items():\n",
    "#                         f.write(f\"{op} {val.astype(str)}\\n\")\n",
    "\n",
    "# save_deriv_op_vecs(deriv_op_vecs_At_B_comm, \"deriv_op_vecs_At_B_comm\")\n",
    "# save_deriv_op_vecs(deriv_op_vecs_At_B_comm_sqr, \"deriv_op_vecs_At_B_comm_sqr\")"
   ]
  },
  {
   "cell_type": "code",
   "execution_count": 6,
   "metadata": {
    "autoscroll": false,
    "collapsed": false,
    "ein.hycell": false,
    "ein.tags": "worksheet-0",
    "slideshow": {
     "slide_type": "-"
    }
   },
   "outputs": [],
   "source": [
    "fontsize = 9\n",
    "max_time = 3.5\n",
    "figsize = (7,4.5)\n",
    "mag_phs_ratio = 2\n",
    "legend_y = -1.5\n",
    "plot_methods = [ OAT, TAT, TNT ]\n",
    "fig_dir = \"../figures/\"\n",
    "\n",
    "dec_grid_map = {}\n",
    "dec_grid_map[no_dec] = (0,-1)\n",
    "dec_grid_map[dicke] = (1,-1)\n",
    "for col, dec_rate in enumerate(dec_rates[1::2]):\n",
    "    dec_grid_map[dec_rate] = (0,col)\n",
    "for col, dec_rate in enumerate(dec_rates[2::2]):\n",
    "    dec_grid_map[dec_rate] = (1,col)\n",
    "\n",
    "mag = \"mag\" # key for correlator magnitude\n",
    "phs = \"phs\" # key for correlator phase\n",
    "\n",
    "params = { \"text.usetex\" : True,\n",
    "           \"font.size\" : fontsize,\n",
    "           \"axes.titlesize\" : fontsize,\n",
    "           \"axes.labelsize\" : fontsize }\n",
    "plt.rcParams.update(params)\n",
    "plot_idx = N * times <= max_time\n",
    "\n",
    "plot_methods = [ method for method in plot_methods if method in methods ]\n",
    "colors = [ \"#4E79A7\", \"#F28E2B\", \"#E15759\", \"#76B7B2\",\n",
    "           \"#59A14E\", \"#EDC949\", \"#B07AA2\", \"#FF9DA7\",\n",
    "           \"#9C755F\", \"#BAB0AC\" ]\n",
    "\n",
    "def plot_corrs(corrs, filename, ylabels):\n",
    "    plot_dicke = dicke in corrs.keys()\n",
    "    dec_columns = len(corrs.keys()) // 2\n",
    "    height_ratios = [ mag_phs_ratio, 1 ]\n",
    "\n",
    "    axes = { key : {} for key in corrs.keys() }\n",
    "\n",
    "    plt.figure(figsize = figsize)\n",
    "    full_grid = gridspec.GridSpec(1, 2, width_ratios = [ 1, dec_columns ])\n",
    "    if plot_dicke:\n",
    "        benchmarking_grid = gridspec.GridSpecFromSubplotSpec(2, 1, subplot_spec = full_grid[0])\n",
    "        subgrids = {}\n",
    "        subgrids[0] = gridspec.GridSpecFromSubplotSpec(2, 1, height_ratios = height_ratios,\n",
    "                                                       subplot_spec = benchmarking_grid[0])\n",
    "        subgrids[1] = gridspec.GridSpecFromSubplotSpec(2, 1, height_ratios = height_ratios,\n",
    "                                                       subplot_spec = benchmarking_grid[1])\n",
    "\n",
    "        axes[no_dec][mag] = plt.subplot(subgrids[dec_grid_map[no_dec][0]][0])\n",
    "        axes[no_dec][phs] = plt.subplot(subgrids[dec_grid_map[no_dec][0]][1])\n",
    "        axes[dicke][mag] = plt.subplot(subgrids[dec_grid_map[dicke][0]][0],\n",
    "                                       sharex = axes[no_dec][mag], sharey = axes[no_dec][mag])\n",
    "        axes[dicke][phs] = plt.subplot(subgrids[dec_grid_map[dicke][0]][1],\n",
    "                                       sharex = axes[no_dec][mag], sharey = axes[no_dec][phs])\n",
    "    else:\n",
    "        mid_height_ratios = [ (1+mag_phs_ratio)/2, mag_phs_ratio, 1, (1+mag_phs_ratio)/2 ]\n",
    "        benchmarking_grid \\\n",
    "            = gridspec.GridSpecFromSubplotSpec(4, 1, height_ratios = mid_height_ratios,\n",
    "                                               subplot_spec = full_grid[0])\n",
    "        axes[no_dec][mag] = plt.subplot(benchmarking_grid[1])\n",
    "        axes[no_dec][phs] = plt.subplot(benchmarking_grid[2])\n",
    "\n",
    "    dec_grid = gridspec.GridSpecFromSubplotSpec(2, dec_columns, subplot_spec = full_grid[1])\n",
    "    for key in corrs.keys():\n",
    "        if key in [ no_dec, dicke ]: continue\n",
    "        subgrid = gridspec.GridSpecFromSubplotSpec(2, 1, height_ratios = height_ratios,\n",
    "                                                   subplot_spec = dec_grid[dec_grid_map[key]])\n",
    "        axes[key][mag] = plt.subplot(subgrid[0], sharex = axes[no_dec][mag],\n",
    "                                     sharey = axes[no_dec][mag])\n",
    "        axes[key][phs] = plt.subplot(subgrid[1], sharex = axes[no_dec][mag],\n",
    "                                     sharey = axes[no_dec][phs])\n",
    "\n",
    "    for key, corr in corrs.items():\n",
    "        axis = axes[key]\n",
    "        axis[mag].set_title(titles[key])\n",
    "\n",
    "        for method, color in zip(plot_methods, colors):\n",
    "            axis[mag].plot(N*times[plot_idx], abs(corr[method][plot_idx])/S, color = color)\n",
    "            axis[phs].plot(N*times[plot_idx], np.angle(corr[method][plot_idx])/np.pi,\n",
    "                           color = color)\n",
    "\n",
    "        plt.setp(axis[mag].get_xticklabels(), visible = False)\n",
    "        if dec_grid_map[key][0] == 1:\n",
    "            axis[phs].set_xlabel(r\"Time ($N\\chi t$)\")\n",
    "        else:\n",
    "            plt.setp(axis[phs].get_xticklabels(), visible = False)\n",
    "\n",
    "        for val in [ mag, phs ]:\n",
    "            if key in [ no_dec, dicke ]:\n",
    "                axis[val].set_ylabel(ylabels[val])\n",
    "            else:\n",
    "                plt.setp(axis[val].get_yticklabels(), visible = False)\n",
    "                axis[val].yaxis.get_offset_text().set_visible(False)\n",
    "\n",
    "            axis[val].tick_params(direction = \"in\")\n",
    "            axis[val].grid(True)\n",
    "\n",
    "    color_handles = [ Line2D([0], [0], color = color) for color in colors ]\n",
    "    if plot_dicke:\n",
    "        axes[no_dec][mag].legend(color_handles, plot_methods, loc = \"upper left\")\n",
    "    else:\n",
    "        axes[no_dec][phs].legend(color_handles, plot_methods, loc = \"lower center\",\n",
    "                                 bbox_to_anchor = (0.5, legend_y))\n",
    "\n",
    "    plt.tight_layout()\n",
    "    plt.savefig(filename)"
   ]
  },
  {
   "cell_type": "code",
   "execution_count": 7,
   "metadata": {
    "autoscroll": false,
    "collapsed": false,
    "ein.hycell": false,
    "ein.tags": "worksheet-0",
    "slideshow": {
     "slide_type": "-"
    }
   },
   "outputs": [],
   "source": [
    "%matplotlib agg\n",
    "plot_corrs(corrs_At_B_disc, fig_dir + \"two_time.pdf\",\n",
    "           { mag : r\"$\\left|C(t)\\right|$\", phs : r\"$\\phi(t)/\\pi$\" })"
   ]
  },
  {
   "cell_type": "code",
   "execution_count": null,
   "metadata": {
    "autoscroll": false,
    "collapsed": false,
    "ein.hycell": false,
    "ein.tags": "worksheet-0",
    "slideshow": {
     "slide_type": "-"
    }
   },
   "outputs": [],
   "source": []
  }
 ],
 "metadata": {
  "kernelspec": {
   "display_name": "Python 3",
   "name": "python3"
  },
  "name": "plot_two_time_correlators.ipynb"
 },
 "nbformat": 4,
 "nbformat_minor": 2
}
